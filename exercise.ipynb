{
 "cells": [
  {
   "cell_type": "markdown",
   "id": "ef779066",
   "metadata": {},
   "source": [
    "Create a Personalized Compliment Agent"
   ]
  },
  {
   "cell_type": "code",
   "execution_count": 1,
   "id": "da8874ac",
   "metadata": {},
   "outputs": [],
   "source": [
    "from typing import Dict, TypedDict\n",
    "from langgraph.graph import StateGraph"
   ]
  },
  {
   "cell_type": "code",
   "execution_count": 17,
   "id": "05ae8a25",
   "metadata": {},
   "outputs": [],
   "source": [
    "class AgentState(TypedDict):\n",
    "    message : str\n",
    "\n",
    "def personalized_compliment(state: AgentState) -> AgentState:\n",
    "    \"\"\"A personalized Compliment Agent\"\"\"\n",
    "    state['message'] = f\"{state['message']}, you're doing an amazing job learning langgraph\"\n",
    "    return state\n",
    "\n",
    "def follow_up(state: AgentState):\n",
    "    \"\"\"Follow up compliment\"\"\"\n",
    "    state['message'] = f\"{state['message']}. Thank God for the gift of life\"\n",
    "    return state"
   ]
  },
  {
   "cell_type": "code",
   "execution_count": 22,
   "id": "8766ec63",
   "metadata": {},
   "outputs": [],
   "source": [
    "graph = StateGraph(AgentState)\n",
    "\n",
    "graph.add_node(\"compliment\", personalized_compliment)\n",
    "graph.add_node(\"followup\", follow_up)\n",
    "\n",
    "graph.set_entry_point(\"compliment\")\n",
    "graph.add_edge(\"compliment\", \"followup\")\n",
    "graph.set_finish_point(\"followup\")  \n",
    "\n",
    "app = graph.compile()"
   ]
  },
  {
   "cell_type": "code",
   "execution_count": 23,
   "id": "2645efb3",
   "metadata": {},
   "outputs": [
    {
     "data": {
      "image/png": "[encoded data removed]",
      "text/plain": [
       "<IPython.core.display.Image object>"
      ]
     },
     "metadata": {},
     "output_type": "display_data"
    }
   ],
   "source": [
    "from IPython.display import Image,display\n",
    "\n",
    "display(Image(app.get_graph().draw_mermaid_png()))"
   ]
  },
  {
   "cell_type": "code",
   "execution_count": 24,
   "id": "4be9a571",
   "metadata": {},
   "outputs": [],
   "source": [
    "result = app.invoke({\"message\":\"Daniel\"})"
   ]
  },
  {
   "cell_type": "code",
   "execution_count": 25,
   "id": "78dc82d6",
   "metadata": {},
   "outputs": [
    {
     "data": {
      "text/plain": [
       "\"Daniel, you're doing an amazing job learning langgraph. Thank God for the gift of life\""
      ]
     },
     "execution_count": 25,
     "metadata": {},
     "output_type": "execute_result"
    }
   ],
   "source": [
    "result[\"message\"]"
   ]
  },
  {
   "cell_type": "code",
   "execution_count": null,
   "id": "acb2cbab",
   "metadata": {},
   "outputs": [],
   "source": []
  }
 ],
 "metadata": {
  "kernelspec": {
   "display_name": "lang",
   "language": "python",
   "name": "python3"
  },
  "language_info": {
   "codemirror_mode": {
    "name": "ipython",
    "version": 3
   },
   "file_extension": ".py",
   "mimetype": "text/x-python",
   "name": "python",
   "nbconvert_exporter": "python",
   "pygments_lexer": "ipython3",
   "version": "3.13.3"
  }
 },
 "nbformat": 4,
 "nbformat_minor": 5
}
